{
  "nbformat": 4,
  "nbformat_minor": 0,
  "metadata": {
    "colab": {
      "provenance": [],
      "authorship_tag": "ABX9TyMcLfMcJrlHYL+1uVKhhGrU",
      "include_colab_link": true
    },
    "kernelspec": {
      "name": "python3",
      "display_name": "Python 3"
    },
    "language_info": {
      "name": "python"
    }
  },
  "cells": [
    {
      "cell_type": "markdown",
      "metadata": {
        "id": "view-in-github",
        "colab_type": "text"
      },
      "source": [
        "<a href=\"https://colab.research.google.com/github/Pankaj-2003/Numerai_Models/blob/main/numerai_first_notebook.ipynb\" target=\"_parent\"><img src=\"https://colab.research.google.com/assets/colab-badge.svg\" alt=\"Open In Colab\"/></a>"
      ]
    },
    {
      "cell_type": "code",
      "execution_count": 12,
      "metadata": {
        "id": "DmZUKyxn2f_W"
      },
      "outputs": [],
      "source": [
        "!pip install -q numerapi numpy pandas pyarrow matplotlib lightgbm scikit-learn cloudpickle scipy==1.10.1\n"
      ]
    },
    {
      "cell_type": "code",
      "source": [
        "%matplotlib inline"
      ],
      "metadata": {
        "id": "_tzQ8nwe2nRp"
      },
      "execution_count": 3,
      "outputs": []
    },
    {
      "cell_type": "code",
      "source": [
        "# Initialize NumerAPI - the official Python API client for Numerai\n",
        "from numerapi import NumerAPI\n",
        "napi = NumerAPI()\n",
        "all_datasets = napi.list_datasets()"
      ],
      "metadata": {
        "id": "pYo0J4h02rN1"
      },
      "execution_count": 4,
      "outputs": []
    },
    {
      "cell_type": "code",
      "source": [
        "dataset_versions = list(set([i.split(\"/\")[0] for i in all_datasets]))\n",
        "dataset_versions"
      ],
      "metadata": {
        "colab": {
          "base_uri": "https://localhost:8080/"
        },
        "id": "c2qOyQKR2rRV",
        "outputId": "0daa5319-c5ef-4307-c20e-357dcf7f48cb"
      },
      "execution_count": 5,
      "outputs": [
        {
          "output_type": "execute_result",
          "data": {
            "text/plain": [
              "['v4.3', 'v4', 'v4.2', 'v4.1']"
            ]
          },
          "metadata": {},
          "execution_count": 5
        }
      ]
    },
    {
      "cell_type": "code",
      "source": [
        "dataset_version = \"v4.3\"\n",
        "current_version_files = [i for i in all_datasets if i.startswith(dataset_version)]\n",
        "current_version_files"
      ],
      "metadata": {
        "colab": {
          "base_uri": "https://localhost:8080/"
        },
        "id": "W53LsCv32rUk",
        "outputId": "5d0ac2a2-5097-4e87-a8bc-d9268916ec8f"
      },
      "execution_count": 6,
      "outputs": [
        {
          "output_type": "execute_result",
          "data": {
            "text/plain": [
              "['v4.3/features.json',\n",
              " 'v4.3/live_benchmark_models.parquet',\n",
              " 'v4.3/live_example_preds.csv',\n",
              " 'v4.3/live_example_preds.parquet',\n",
              " 'v4.3/live_int8.parquet',\n",
              " 'v4.3/meta_model.parquet',\n",
              " 'v4.3/train_benchmark_models.parquet',\n",
              " 'v4.3/train_int8.parquet',\n",
              " 'v4.3/validation_benchmark_models.parquet',\n",
              " 'v4.3/validation_example_preds.csv',\n",
              " 'v4.3/validation_example_preds.parquet',\n",
              " 'v4.3/validation_int8.parquet']"
            ]
          },
          "metadata": {},
          "execution_count": 6
        }
      ]
    },
    {
      "cell_type": "code",
      "source": [
        "import json\n",
        "napi.download_dataset(f\"{dataset_version}/features.json\");\n",
        "feature_metadata = json.load(open(f\"{dataset_version}/features.json\"))\n"
      ],
      "metadata": {
        "id": "X10GFgnS2rYA",
        "colab": {
          "base_uri": "https://localhost:8080/"
        },
        "outputId": "bb62f0ad-645e-41e4-b001-a3016e6cc286"
      },
      "execution_count": 7,
      "outputs": [
        {
          "output_type": "stream",
          "name": "stderr",
          "text": [
            "v4.3/features.json: 1.12MB [00:00, 2.96MB/s]                           \n"
          ]
        }
      ]
    },
    {
      "cell_type": "code",
      "source": [
        "for i in feature_metadata.keys():\n",
        "  print(f'{i}: {len(feature_metadata[i])}')\n"
      ],
      "metadata": {
        "colab": {
          "base_uri": "https://localhost:8080/"
        },
        "id": "-V5PmHfY2rbi",
        "outputId": "e35f9ca4-e361-49e8-8b7a-c1029c18fc56"
      },
      "execution_count": 8,
      "outputs": [
        {
          "output_type": "stream",
          "name": "stdout",
          "text": [
            "feature_stats: 2376\n",
            "feature_sets: 17\n",
            "targets: 41\n"
          ]
        }
      ]
    },
    {
      "cell_type": "code",
      "source": [
        "features = [\"small\",\"medium\",\"all\"]\n",
        "for i in features:\n",
        "  print(f\"{i}:{len(feature_metadata['feature_sets'][i])}\")"
      ],
      "metadata": {
        "colab": {
          "base_uri": "https://localhost:8080/"
        },
        "id": "ypkWCsIW2rfB",
        "outputId": "d9e80de5-c0ce-4a1a-ae84-95f4c14b6a74"
      },
      "execution_count": 26,
      "outputs": [
        {
          "output_type": "stream",
          "name": "stdout",
          "text": [
            "small:42\n",
            "medium:705\n",
            "all:2376\n"
          ]
        }
      ]
    },
    {
      "cell_type": "code",
      "source": [
        "# loading dataset\n",
        "import pandas as pd\n",
        "feature_sets = feature_metadata[\"feature_sets\"][\"medium\"]\n",
        "napi.download_dataset(f\"{dataset_version}/train_int8.parquet\");\n",
        "train = pd.read_parquet(f\"{dataset_version}/train_int8.parquet\",columns = [\"era\",\"target\"] + feature_sets)\n",
        "train = train[train[\"era\"].isin(train[\"era\"].unique()[::4])]"
      ],
      "metadata": {
        "id": "IhRHPuTr2rii",
        "colab": {
          "base_uri": "https://localhost:8080/"
        },
        "outputId": "b23a6a45-d680-47aa-bba7-09fd4043fc7a"
      },
      "execution_count": 9,
      "outputs": [
        {
          "output_type": "stream",
          "name": "stderr",
          "text": [
            "v4.3/train_int8.parquet: 2.09GB [02:01, 17.2MB/s]                            \n"
          ]
        }
      ]
    },
    {
      "cell_type": "code",
      "source": [
        "# exploring eras(took just first 10 to get a idea)\n",
        "train.groupby([\"era\"]).size()"
      ],
      "metadata": {
        "colab": {
          "base_uri": "https://localhost:8080/"
        },
        "id": "QDpqumRh2rl0",
        "outputId": "72a0a870-1765-456e-a376-5d464925c81a"
      },
      "execution_count": 10,
      "outputs": [
        {
          "output_type": "execute_result",
          "data": {
            "text/plain": [
              "era\n",
              "0001    2072\n",
              "0002    2260\n",
              "0003    2334\n",
              "0004    2399\n",
              "0005    2406\n",
              "        ... \n",
              "0570    4804\n",
              "0571    4811\n",
              "0572    4793\n",
              "0573    4793\n",
              "0574    4801\n",
              "Length: 574, dtype: int64"
            ]
          },
          "metadata": {},
          "execution_count": 10
        }
      ]
    },
    {
      "cell_type": "code",
      "source": [
        "# no of rows per era\n",
        "train.groupby('era').size().plot(title = \"No. of rows per era\",figsize = (5,3),xlabel = \"era\")"
      ],
      "metadata": {
        "colab": {
          "base_uri": "https://localhost:8080/",
          "height": 350
        },
        "id": "6yU_Jr1s2rpP",
        "outputId": "135a3844-d3e9-43b0-d518-124d9659adbd"
      },
      "execution_count": null,
      "outputs": [
        {
          "output_type": "execute_result",
          "data": {
            "text/plain": [
              "<Axes: title={'center': 'No. of rows per era'}, xlabel='era'>"
            ]
          },
          "metadata": {},
          "execution_count": 20
        },
        {
          "output_type": "display_data",
          "data": {
            "text/plain": [
              "<Figure size 500x300 with 1 Axes>"
            ],
            "image/png": "[encoded data removed]"
          },
          "metadata": {}
        }
      ]
    },
    {
      "cell_type": "code",
      "source": [
        "train[\"target\"].plot(kind = 'hist', figsize = (5,3), bins = 50 , title = \"Target\",xlabel = \"value\", density = True)"
      ],
      "metadata": {
        "id": "U5_RuraJ2rsd",
        "colab": {
          "base_uri": "https://localhost:8080/",
          "height": 331
        },
        "outputId": "f155b40d-a458-4247-860f-92d804f9e92a"
      },
      "execution_count": 18,
      "outputs": [
        {
          "output_type": "execute_result",
          "data": {
            "text/plain": [
              "<Axes: title={'center': 'Target'}, ylabel='Frequency'>"
            ]
          },
          "metadata": {},
          "execution_count": 18
        },
        {
          "output_type": "display_data",
          "data": {
            "text/plain": [
              "<Figure size 500x300 with 1 Axes>"
            ],
            "image/png": "[encoded data removed]"
          },
          "metadata": {}
        }
      ]
    },
    {
      "cell_type": "code",
      "source": [
        "import matplotlib.pyplot as plt\n",
        "fig ,(ax1 , ax2) = plt.subplots(1,2,figsize = (10,3))\n",
        "first_era = train[train[\"era\"] == train[\"era\"].unique()[0]]\n",
        "last_era  = train[train[\"era\"] == train[\"era\"].unique()[1]]\n",
        "last_era[train.columns[2]].plot(kind = 'hist', density = True , title = \"5 equal bins\", bins = 50,ax = ax1)\n",
        "first_era[train.columns[2]].plot(kind = 'hist', title = \"missing data\", density = True, bins = 50, ax = ax2)"
      ],
      "metadata": {
        "id": "GFroQHTw2rvz",
        "colab": {
          "base_uri": "https://localhost:8080/",
          "height": 331
        },
        "outputId": "2f1365c2-e83f-4727-86f8-17f4837f4f21"
      },
      "execution_count": 51,
      "outputs": [
        {
          "output_type": "execute_result",
          "data": {
            "text/plain": [
              "<Axes: title={'center': 'missing data'}, ylabel='Frequency'>"
            ]
          },
          "metadata": {},
          "execution_count": 51
        },
        {
          "output_type": "display_data",
          "data": {
            "text/plain": [
              "<Figure size 1000x300 with 2 Axes>"
            ],
            "image/png": "[encoded data removed]"
          },
          "metadata": {}
        }
      ]
    },
    {
      "cell_type": "code",
      "source": [
        "import lightgbm as lgb\n",
        "X = train.drop_duplicates\n",
        "model = lgb.LGBMRegressor(n_estimator = 2000 , learning_rate = 0.01 , max_depth = 5, num_leaves = 2**5-1 , colsample_bytree = 0.1)\n",
        "model.fit(train[feature_metadata[\"feature_sets\"][\"medium\"]],train[\"target\"]);"
      ],
      "metadata": {
        "id": "6ABO-1ua2rzX"
      },
      "execution_count": null,
      "outputs": []
    },
    {
      "cell_type": "code",
      "source": [],
      "metadata": {
        "colab": {
          "base_uri": "https://localhost:8080/",
          "height": 475
        },
        "id": "bu7qzqZ_f3jL",
        "outputId": "b5eb36bc-56b1-49a2-c74a-af11cfa1affe"
      },
      "execution_count": 56,
      "outputs": [
        {
          "output_type": "execute_result",
          "data": {
            "text/plain": [
              "                  feature_abating_unadaptable_weakfish  \\\n",
              "id                                                       \n",
              "n003bba8a98662e4                                     0   \n",
              "n003bee128c2fcfc                                     4   \n",
              "n0048ac83aff7194                                     4   \n",
              "n00691bec80d3e02                                     1   \n",
              "n00b8720a2fdc4f2                                     0   \n",
              "...                                                ...   \n",
              "nffcc1dbdf2212e6                                     0   \n",
              "nffd71b7f6a128df                                     4   \n",
              "nffde3b371d67394                                     1   \n",
              "nfff1a1111b35e84                                     4   \n",
              "nfff2bd38e397265                                     1   \n",
              "\n",
              "                  feature_ablest_mauritanian_elding  \\\n",
              "id                                                    \n",
              "n003bba8a98662e4                                  4   \n",
              "n003bee128c2fcfc                                  2   \n",
              "n0048ac83aff7194                                  4   \n",
              "n00691bec80d3e02                                  4   \n",
              "n00b8720a2fdc4f2                                  2   \n",
              "...                                             ...   \n",
              "nffcc1dbdf2212e6                                  2   \n",
              "nffd71b7f6a128df                                  3   \n",
              "nffde3b371d67394                                  2   \n",
              "nfff1a1111b35e84                                  1   \n",
              "nfff2bd38e397265                                  1   \n",
              "\n",
              "                  feature_acclimatisable_unfeigned_maghreb  \\\n",
              "id                                                           \n",
              "n003bba8a98662e4                                         0   \n",
              "n003bee128c2fcfc                                         2   \n",
              "n0048ac83aff7194                                         2   \n",
              "n00691bec80d3e02                                         1   \n",
              "n00b8720a2fdc4f2                                         0   \n",
              "...                                                    ...   \n",
              "nffcc1dbdf2212e6                                         1   \n",
              "nffd71b7f6a128df                                         0   \n",
              "nffde3b371d67394                                         1   \n",
              "nfff1a1111b35e84                                         0   \n",
              "nfff2bd38e397265                                         2   \n",
              "\n",
              "                  feature_accommodable_crinite_cleft  \\\n",
              "id                                                     \n",
              "n003bba8a98662e4                                   4   \n",
              "n003bee128c2fcfc                                   2   \n",
              "n0048ac83aff7194                                   0   \n",
              "n00691bec80d3e02                                   1   \n",
              "n00b8720a2fdc4f2                                   0   \n",
              "...                                              ...   \n",
              "nffcc1dbdf2212e6                                   1   \n",
              "nffd71b7f6a128df                                   0   \n",
              "nffde3b371d67394                                   2   \n",
              "nfff1a1111b35e84                                   0   \n",
              "nfff2bd38e397265                                   0   \n",
              "\n",
              "                  feature_accretive_sorrier_skedaddle  \\\n",
              "id                                                      \n",
              "n003bba8a98662e4                                    2   \n",
              "n003bee128c2fcfc                                    2   \n",
              "n0048ac83aff7194                                    2   \n",
              "n00691bec80d3e02                                    2   \n",
              "n00b8720a2fdc4f2                                    2   \n",
              "...                                               ...   \n",
              "nffcc1dbdf2212e6                                    4   \n",
              "nffd71b7f6a128df                                    0   \n",
              "nffde3b371d67394                                    3   \n",
              "nfff1a1111b35e84                                    4   \n",
              "nfff2bd38e397265                                    0   \n",
              "\n",
              "                  feature_acetose_periotic_coronation  \\\n",
              "id                                                      \n",
              "n003bba8a98662e4                                    0   \n",
              "n003bee128c2fcfc                                    3   \n",
              "n0048ac83aff7194                                    0   \n",
              "n00691bec80d3e02                                    0   \n",
              "n00b8720a2fdc4f2                                    0   \n",
              "...                                               ...   \n",
              "nffcc1dbdf2212e6                                    2   \n",
              "nffd71b7f6a128df                                    0   \n",
              "nffde3b371d67394                                    2   \n",
              "nfff1a1111b35e84                                    4   \n",
              "nfff2bd38e397265                                    2   \n",
              "\n",
              "                  feature_adam_incantational_winemaker  \\\n",
              "id                                                       \n",
              "n003bba8a98662e4                                     2   \n",
              "n003bee128c2fcfc                                     2   \n",
              "n0048ac83aff7194                                     2   \n",
              "n00691bec80d3e02                                     2   \n",
              "n00b8720a2fdc4f2                                     2   \n",
              "...                                                ...   \n",
              "nffcc1dbdf2212e6                                     0   \n",
              "nffd71b7f6a128df                                     2   \n",
              "nffde3b371d67394                                     4   \n",
              "nfff1a1111b35e84                                     2   \n",
              "nfff2bd38e397265                                     4   \n",
              "\n",
              "                  feature_additive_untrustworthy_hierologist  \\\n",
              "id                                                             \n",
              "n003bba8a98662e4                                           1   \n",
              "n003bee128c2fcfc                                           1   \n",
              "n0048ac83aff7194                                           4   \n",
              "n00691bec80d3e02                                           2   \n",
              "n00b8720a2fdc4f2                                           3   \n",
              "...                                                      ...   \n",
              "nffcc1dbdf2212e6                                           4   \n",
              "nffd71b7f6a128df                                           0   \n",
              "nffde3b371d67394                                           2   \n",
              "nfff1a1111b35e84                                           0   \n",
              "nfff2bd38e397265                                           4   \n",
              "\n",
              "                  feature_adsorbed_blizzardy_burlesque  \\\n",
              "id                                                       \n",
              "n003bba8a98662e4                                     4   \n",
              "n003bee128c2fcfc                                     3   \n",
              "n0048ac83aff7194                                     1   \n",
              "n00691bec80d3e02                                     1   \n",
              "n00b8720a2fdc4f2                                     1   \n",
              "...                                                ...   \n",
              "nffcc1dbdf2212e6                                     3   \n",
              "nffd71b7f6a128df                                     0   \n",
              "nffde3b371d67394                                     3   \n",
              "nfff1a1111b35e84                                     0   \n",
              "nfff2bd38e397265                                     0   \n",
              "\n",
              "                  feature_affettuoso_taxidermic_greg  ...  \\\n",
              "id                                                    ...   \n",
              "n003bba8a98662e4                                   0  ...   \n",
              "n003bee128c2fcfc                                   2  ...   \n",
              "n0048ac83aff7194                                   3  ...   \n",
              "n00691bec80d3e02                                   2  ...   \n",
              "n00b8720a2fdc4f2                                   0  ...   \n",
              "...                                              ...  ...   \n",
              "nffcc1dbdf2212e6                                   2  ...   \n",
              "nffd71b7f6a128df                                   0  ...   \n",
              "nffde3b371d67394                                   1  ...   \n",
              "nfff1a1111b35e84                                   0  ...   \n",
              "nfff2bd38e397265                                   2  ...   \n",
              "\n",
              "                  feature_witchy_orange_muley  \\\n",
              "id                                              \n",
              "n003bba8a98662e4                            0   \n",
              "n003bee128c2fcfc                            3   \n",
              "n0048ac83aff7194                            0   \n",
              "n00691bec80d3e02                            2   \n",
              "n00b8720a2fdc4f2                            1   \n",
              "...                                       ...   \n",
              "nffcc1dbdf2212e6                            4   \n",
              "nffd71b7f6a128df                            0   \n",
              "nffde3b371d67394                            3   \n",
              "nfff1a1111b35e84                            2   \n",
              "nfff2bd38e397265                            0   \n",
              "\n",
              "                  feature_wombed_liberatory_malva  \\\n",
              "id                                                  \n",
              "n003bba8a98662e4                                0   \n",
              "n003bee128c2fcfc                                3   \n",
              "n0048ac83aff7194                                1   \n",
              "n00691bec80d3e02                                1   \n",
              "n00b8720a2fdc4f2                                1   \n",
              "...                                           ...   \n",
              "nffcc1dbdf2212e6                                2   \n",
              "nffd71b7f6a128df                                0   \n",
              "nffde3b371d67394                                2   \n",
              "nfff1a1111b35e84                                4   \n",
              "nfff2bd38e397265                                2   \n",
              "\n",
              "                  feature_won_stalwart_eisenstein  \\\n",
              "id                                                  \n",
              "n003bba8a98662e4                                2   \n",
              "n003bee128c2fcfc                                2   \n",
              "n0048ac83aff7194                                2   \n",
              "n00691bec80d3e02                                2   \n",
              "n00b8720a2fdc4f2                                2   \n",
              "...                                           ...   \n",
              "nffcc1dbdf2212e6                                4   \n",
              "nffd71b7f6a128df                                0   \n",
              "nffde3b371d67394                                1   \n",
              "nfff1a1111b35e84                                1   \n",
              "nfff2bd38e397265                                1   \n",
              "\n",
              "                  feature_wrathful_prolix_colotomy  \\\n",
              "id                                                   \n",
              "n003bba8a98662e4                                 4   \n",
              "n003bee128c2fcfc                                 0   \n",
              "n0048ac83aff7194                                 0   \n",
              "n00691bec80d3e02                                 2   \n",
              "n00b8720a2fdc4f2                                 0   \n",
              "...                                            ...   \n",
              "nffcc1dbdf2212e6                                 3   \n",
              "nffd71b7f6a128df                                 0   \n",
              "nffde3b371d67394                                 2   \n",
              "nfff1a1111b35e84                                 4   \n",
              "nfff2bd38e397265                                 0   \n",
              "\n",
              "                  feature_wrinkliest_unmaintainable_usk  \\\n",
              "id                                                        \n",
              "n003bba8a98662e4                                      2   \n",
              "n003bee128c2fcfc                                      2   \n",
              "n0048ac83aff7194                                      2   \n",
              "n00691bec80d3e02                                      2   \n",
              "n00b8720a2fdc4f2                                      2   \n",
              "...                                                 ...   \n",
              "nffcc1dbdf2212e6                                      4   \n",
              "nffd71b7f6a128df                                      4   \n",
              "nffde3b371d67394                                      2   \n",
              "nfff1a1111b35e84                                      1   \n",
              "nfff2bd38e397265                                      4   \n",
              "\n",
              "                  feature_wrought_muckier_temporality  \\\n",
              "id                                                      \n",
              "n003bba8a98662e4                                    4   \n",
              "n003bee128c2fcfc                                    2   \n",
              "n0048ac83aff7194                                    3   \n",
              "n00691bec80d3e02                                    3   \n",
              "n00b8720a2fdc4f2                                    0   \n",
              "...                                               ...   \n",
              "nffcc1dbdf2212e6                                    4   \n",
              "nffd71b7f6a128df                                    0   \n",
              "nffde3b371d67394                                    0   \n",
              "nfff1a1111b35e84                                    1   \n",
              "nfff2bd38e397265                                    1   \n",
              "\n",
              "                  feature_yauld_antediluvial_subprefecture  \\\n",
              "id                                                           \n",
              "n003bba8a98662e4                                         3   \n",
              "n003bee128c2fcfc                                         1   \n",
              "n0048ac83aff7194                                         2   \n",
              "n00691bec80d3e02                                         2   \n",
              "n00b8720a2fdc4f2                                         1   \n",
              "...                                                    ...   \n",
              "nffcc1dbdf2212e6                                         4   \n",
              "nffd71b7f6a128df                                         2   \n",
              "nffde3b371d67394                                         3   \n",
              "nfff1a1111b35e84                                         2   \n",
              "nfff2bd38e397265                                         4   \n",
              "\n",
              "                  feature_yelled_hysteretic_eath  \\\n",
              "id                                                 \n",
              "n003bba8a98662e4                               2   \n",
              "n003bee128c2fcfc                               3   \n",
              "n0048ac83aff7194                               1   \n",
              "n00691bec80d3e02                               2   \n",
              "n00b8720a2fdc4f2                               1   \n",
              "...                                          ...   \n",
              "nffcc1dbdf2212e6                               4   \n",
              "nffd71b7f6a128df                               1   \n",
              "nffde3b371d67394                               4   \n",
              "nfff1a1111b35e84                               3   \n",
              "nfff2bd38e397265                               1   \n",
              "\n",
              "                  feature_yoruban_unapplied_tawse  \\\n",
              "id                                                  \n",
              "n003bba8a98662e4                                2   \n",
              "n003bee128c2fcfc                                2   \n",
              "n0048ac83aff7194                                2   \n",
              "n00691bec80d3e02                                2   \n",
              "n00b8720a2fdc4f2                                2   \n",
              "...                                           ...   \n",
              "nffcc1dbdf2212e6                                3   \n",
              "nffd71b7f6a128df                                4   \n",
              "nffde3b371d67394                                3   \n",
              "nfff1a1111b35e84                                1   \n",
              "nfff2bd38e397265                                4   \n",
              "\n",
              "                  feature_zygodactyl_exponible_lathi  \n",
              "id                                                    \n",
              "n003bba8a98662e4                                   3  \n",
              "n003bee128c2fcfc                                   1  \n",
              "n0048ac83aff7194                                   2  \n",
              "n00691bec80d3e02                                   2  \n",
              "n00b8720a2fdc4f2                                   1  \n",
              "...                                              ...  \n",
              "nffcc1dbdf2212e6                                   0  \n",
              "nffd71b7f6a128df                                   0  \n",
              "nffde3b371d67394                                   0  \n",
              "nfff1a1111b35e84                                   4  \n",
              "nfff2bd38e397265                                   0  \n",
              "\n",
              "[2420521 rows x 705 columns]"
            ],
            "text/html": [
              "\n",
              "  <div id=\"df-4634b828-dcd3-4dcc-91ce-9add79f4179b\" class=\"colab-df-container\">\n",
              "    <div>\n",
              "<style scoped>\n",
              "    .dataframe tbody tr th:only-of-type {\n",
              "        vertical-align: middle;\n",
              "    }\n",
              "\n",
              "    .dataframe tbody tr th {\n",
              "        vertical-align: top;\n",
              "    }\n",
              "\n",
              "    .dataframe thead th {\n",
              "        text-align: right;\n",
              "    }\n",
              "</style>\n",
              "<table border=\"1\" class=\"dataframe\">\n",
              "  <thead>\n",
              "    <tr style=\"text-align: right;\">\n",
              "      <th></th>\n",
              "      <th>feature_abating_unadaptable_weakfish</th>\n",
              "      <th>feature_ablest_mauritanian_elding</th>\n",
              "      <th>feature_acclimatisable_unfeigned_maghreb</th>\n",
              "      <th>feature_accommodable_crinite_cleft</th>\n",
              "      <th>feature_accretive_sorrier_skedaddle</th>\n",
              "      <th>feature_acetose_periotic_coronation</th>\n",
              "      <th>feature_adam_incantational_winemaker</th>\n",
              "      <th>feature_additive_untrustworthy_hierologist</th>\n",
              "      <th>feature_adsorbed_blizzardy_burlesque</th>\n",
              "      <th>feature_affettuoso_taxidermic_greg</th>\n",
              "      <th>...</th>\n",
              "      <th>feature_witchy_orange_muley</th>\n",
              "      <th>feature_wombed_liberatory_malva</th>\n",
              "      <th>feature_won_stalwart_eisenstein</th>\n",
              "      <th>feature_wrathful_prolix_colotomy</th>\n",
              "      <th>feature_wrinkliest_unmaintainable_usk</th>\n",
              "      <th>feature_wrought_muckier_temporality</th>\n",
              "      <th>feature_yauld_antediluvial_subprefecture</th>\n",
              "      <th>feature_yelled_hysteretic_eath</th>\n",
              "      <th>feature_yoruban_unapplied_tawse</th>\n",
              "      <th>feature_zygodactyl_exponible_lathi</th>\n",
              "    </tr>\n",
              "    <tr>\n",
              "      <th>id</th>\n",
              "      <th></th>\n",
              "      <th></th>\n",
              "      <th></th>\n",
              "      <th></th>\n",
              "      <th></th>\n",
              "      <th></th>\n",
              "      <th></th>\n",
              "      <th></th>\n",
              "      <th></th>\n",
              "      <th></th>\n",
              "      <th></th>\n",
              "      <th></th>\n",
              "      <th></th>\n",
              "      <th></th>\n",
              "      <th></th>\n",
              "      <th></th>\n",
              "      <th></th>\n",
              "      <th></th>\n",
              "      <th></th>\n",
              "      <th></th>\n",
              "      <th></th>\n",
              "    </tr>\n",
              "  </thead>\n",
              "  <tbody>\n",
              "    <tr>\n",
              "      <th>n003bba8a98662e4</th>\n",
              "      <td>0</td>\n",
              "      <td>4</td>\n",
              "      <td>0</td>\n",
              "      <td>4</td>\n",
              "      <td>2</td>\n",
              "      <td>0</td>\n",
              "      <td>2</td>\n",
              "      <td>1</td>\n",
              "      <td>4</td>\n",
              "      <td>0</td>\n",
              "      <td>...</td>\n",
              "      <td>0</td>\n",
              "      <td>0</td>\n",
              "      <td>2</td>\n",
              "      <td>4</td>\n",
              "      <td>2</td>\n",
              "      <td>4</td>\n",
              "      <td>3</td>\n",
              "      <td>2</td>\n",
              "      <td>2</td>\n",
              "      <td>3</td>\n",
              "    </tr>\n",
              "    <tr>\n",
              "      <th>n003bee128c2fcfc</th>\n",
              "      <td>4</td>\n",
              "      <td>2</td>\n",
              "      <td>2</td>\n",
              "      <td>2</td>\n",
              "      <td>2</td>\n",
              "      <td>3</td>\n",
              "      <td>2</td>\n",
              "      <td>1</td>\n",
              "      <td>3</td>\n",
              "      <td>2</td>\n",
              "      <td>...</td>\n",
              "      <td>3</td>\n",
              "      <td>3</td>\n",
              "      <td>2</td>\n",
              "      <td>0</td>\n",
              "      <td>2</td>\n",
              "      <td>2</td>\n",
              "      <td>1</td>\n",
              "      <td>3</td>\n",
              "      <td>2</td>\n",
              "      <td>1</td>\n",
              "    </tr>\n",
              "    <tr>\n",
              "      <th>n0048ac83aff7194</th>\n",
              "      <td>4</td>\n",
              "      <td>4</td>\n",
              "      <td>2</td>\n",
              "      <td>0</td>\n",
              "      <td>2</td>\n",
              "      <td>0</td>\n",
              "      <td>2</td>\n",
              "      <td>4</td>\n",
              "      <td>1</td>\n",
              "      <td>3</td>\n",
              "      <td>...</td>\n",
              "      <td>0</td>\n",
              "      <td>1</td>\n",
              "      <td>2</td>\n",
              "      <td>0</td>\n",
              "      <td>2</td>\n",
              "      <td>3</td>\n",
              "      <td>2</td>\n",
              "      <td>1</td>\n",
              "      <td>2</td>\n",
              "      <td>2</td>\n",
              "    </tr>\n",
              "    <tr>\n",
              "      <th>n00691bec80d3e02</th>\n",
              "      <td>1</td>\n",
              "      <td>4</td>\n",
              "      <td>1</td>\n",
              "      <td>1</td>\n",
              "      <td>2</td>\n",
              "      <td>0</td>\n",
              "      <td>2</td>\n",
              "      <td>2</td>\n",
              "      <td>1</td>\n",
              "      <td>2</td>\n",
              "      <td>...</td>\n",
              "      <td>2</td>\n",
              "      <td>1</td>\n",
              "      <td>2</td>\n",
              "      <td>2</td>\n",
              "      <td>2</td>\n",
              "      <td>3</td>\n",
              "      <td>2</td>\n",
              "      <td>2</td>\n",
              "      <td>2</td>\n",
              "      <td>2</td>\n",
              "    </tr>\n",
              "    <tr>\n",
              "      <th>n00b8720a2fdc4f2</th>\n",
              "      <td>0</td>\n",
              "      <td>2</td>\n",
              "      <td>0</td>\n",
              "      <td>0</td>\n",
              "      <td>2</td>\n",
              "      <td>0</td>\n",
              "      <td>2</td>\n",
              "      <td>3</td>\n",
              "      <td>1</td>\n",
              "      <td>0</td>\n",
              "      <td>...</td>\n",
              "      <td>1</td>\n",
              "      <td>1</td>\n",
              "      <td>2</td>\n",
              "      <td>0</td>\n",
              "      <td>2</td>\n",
              "      <td>0</td>\n",
              "      <td>1</td>\n",
              "      <td>1</td>\n",
              "      <td>2</td>\n",
              "      <td>1</td>\n",
              "    </tr>\n",
              "    <tr>\n",
              "      <th>...</th>\n",
              "      <td>...</td>\n",
              "      <td>...</td>\n",
              "      <td>...</td>\n",
              "      <td>...</td>\n",
              "      <td>...</td>\n",
              "      <td>...</td>\n",
              "      <td>...</td>\n",
              "      <td>...</td>\n",
              "      <td>...</td>\n",
              "      <td>...</td>\n",
              "      <td>...</td>\n",
              "      <td>...</td>\n",
              "      <td>...</td>\n",
              "      <td>...</td>\n",
              "      <td>...</td>\n",
              "      <td>...</td>\n",
              "      <td>...</td>\n",
              "      <td>...</td>\n",
              "      <td>...</td>\n",
              "      <td>...</td>\n",
              "      <td>...</td>\n",
              "    </tr>\n",
              "    <tr>\n",
              "      <th>nffcc1dbdf2212e6</th>\n",
              "      <td>0</td>\n",
              "      <td>2</td>\n",
              "      <td>1</td>\n",
              "      <td>1</td>\n",
              "      <td>4</td>\n",
              "      <td>2</td>\n",
              "      <td>0</td>\n",
              "      <td>4</td>\n",
              "      <td>3</td>\n",
              "      <td>2</td>\n",
              "      <td>...</td>\n",
              "      <td>4</td>\n",
              "      <td>2</td>\n",
              "      <td>4</td>\n",
              "      <td>3</td>\n",
              "      <td>4</td>\n",
              "      <td>4</td>\n",
              "      <td>4</td>\n",
              "      <td>4</td>\n",
              "      <td>3</td>\n",
              "      <td>0</td>\n",
              "    </tr>\n",
              "    <tr>\n",
              "      <th>nffd71b7f6a128df</th>\n",
              "      <td>4</td>\n",
              "      <td>3</td>\n",
              "      <td>0</td>\n",
              "      <td>0</td>\n",
              "      <td>0</td>\n",
              "      <td>0</td>\n",
              "      <td>2</td>\n",
              "      <td>0</td>\n",
              "      <td>0</td>\n",
              "      <td>0</td>\n",
              "      <td>...</td>\n",
              "      <td>0</td>\n",
              "      <td>0</td>\n",
              "      <td>0</td>\n",
              "      <td>0</td>\n",
              "      <td>4</td>\n",
              "      <td>0</td>\n",
              "      <td>2</td>\n",
              "      <td>1</td>\n",
              "      <td>4</td>\n",
              "      <td>0</td>\n",
              "    </tr>\n",
              "    <tr>\n",
              "      <th>nffde3b371d67394</th>\n",
              "      <td>1</td>\n",
              "      <td>2</td>\n",
              "      <td>1</td>\n",
              "      <td>2</td>\n",
              "      <td>3</td>\n",
              "      <td>2</td>\n",
              "      <td>4</td>\n",
              "      <td>2</td>\n",
              "      <td>3</td>\n",
              "      <td>1</td>\n",
              "      <td>...</td>\n",
              "      <td>3</td>\n",
              "      <td>2</td>\n",
              "      <td>1</td>\n",
              "      <td>2</td>\n",
              "      <td>2</td>\n",
              "      <td>0</td>\n",
              "      <td>3</td>\n",
              "      <td>4</td>\n",
              "      <td>3</td>\n",
              "      <td>0</td>\n",
              "    </tr>\n",
              "    <tr>\n",
              "      <th>nfff1a1111b35e84</th>\n",
              "      <td>4</td>\n",
              "      <td>1</td>\n",
              "      <td>0</td>\n",
              "      <td>0</td>\n",
              "      <td>4</td>\n",
              "      <td>4</td>\n",
              "      <td>2</td>\n",
              "      <td>0</td>\n",
              "      <td>0</td>\n",
              "      <td>0</td>\n",
              "      <td>...</td>\n",
              "      <td>2</td>\n",
              "      <td>4</td>\n",
              "      <td>1</td>\n",
              "      <td>4</td>\n",
              "      <td>1</td>\n",
              "      <td>1</td>\n",
              "      <td>2</td>\n",
              "      <td>3</td>\n",
              "      <td>1</td>\n",
              "      <td>4</td>\n",
              "    </tr>\n",
              "    <tr>\n",
              "      <th>nfff2bd38e397265</th>\n",
              "      <td>1</td>\n",
              "      <td>1</td>\n",
              "      <td>2</td>\n",
              "      <td>0</td>\n",
              "      <td>0</td>\n",
              "      <td>2</td>\n",
              "      <td>4</td>\n",
              "      <td>4</td>\n",
              "      <td>0</td>\n",
              "      <td>2</td>\n",
              "      <td>...</td>\n",
              "      <td>0</td>\n",
              "      <td>2</td>\n",
              "      <td>1</td>\n",
              "      <td>0</td>\n",
              "      <td>4</td>\n",
              "      <td>1</td>\n",
              "      <td>4</td>\n",
              "      <td>1</td>\n",
              "      <td>4</td>\n",
              "      <td>0</td>\n",
              "    </tr>\n",
              "  </tbody>\n",
              "</table>\n",
              "<p>2420521 rows × 705 columns</p>\n",
              "</div>\n",
              "    <div class=\"colab-df-buttons\">\n",
              "\n",
              "  <div class=\"colab-df-container\">\n",
              "    <button class=\"colab-df-convert\" onclick=\"convertToInteractive('df-4634b828-dcd3-4dcc-91ce-9add79f4179b')\"\n",
              "            title=\"Convert this dataframe to an interactive table.\"\n",
              "            style=\"display:none;\">\n",
              "\n",
              "  <svg xmlns=\"http://www.w3.org/2000/svg\" height=\"24px\" viewBox=\"0 -960 960 960\">\n",
              "    <path d=\"M120-120v-720h720v720H120Zm60-500h600v-160H180v160Zm220 220h160v-160H400v160Zm0 220h160v-160H400v160ZM180-400h160v-160H180v160Zm440 0h160v-160H620v160ZM180-180h160v-160H180v160Zm440 0h160v-160H620v160Z\"/>\n",
              "  </svg>\n",
              "    </button>\n",
              "\n",
              "  <style>\n",
              "    .colab-df-container {\n",
              "      display:flex;\n",
              "      gap: 12px;\n",
              "    }\n",
              "\n",
              "    .colab-df-convert {\n",
              "      background-color: #E8F0FE;\n",
              "      border: none;\n",
              "      border-radius: 50%;\n",
              "      cursor: pointer;\n",
              "      display: none;\n",
              "      fill: #1967D2;\n",
              "      height: 32px;\n",
              "      padding: 0 0 0 0;\n",
              "      width: 32px;\n",
              "    }\n",
              "\n",
              "    .colab-df-convert:hover {\n",
              "      background-color: #E2EBFA;\n",
              "      box-shadow: 0px 1px 2px rgba(60, 64, 67, 0.3), 0px 1px 3px 1px rgba(60, 64, 67, 0.15);\n",
              "      fill: #174EA6;\n",
              "    }\n",
              "\n",
              "    .colab-df-buttons div {\n",
              "      margin-bottom: 4px;\n",
              "    }\n",
              "\n",
              "    [theme=dark] .colab-df-convert {\n",
              "      background-color: #3B4455;\n",
              "      fill: #D2E3FC;\n",
              "    }\n",
              "\n",
              "    [theme=dark] .colab-df-convert:hover {\n",
              "      background-color: #434B5C;\n",
              "      box-shadow: 0px 1px 3px 1px rgba(0, 0, 0, 0.15);\n",
              "      filter: drop-shadow(0px 1px 2px rgba(0, 0, 0, 0.3));\n",
              "      fill: #FFFFFF;\n",
              "    }\n",
              "  </style>\n",
              "\n",
              "    <script>\n",
              "      const buttonEl =\n",
              "        document.querySelector('#df-4634b828-dcd3-4dcc-91ce-9add79f4179b button.colab-df-convert');\n",
              "      buttonEl.style.display =\n",
              "        google.colab.kernel.accessAllowed ? 'block' : 'none';\n",
              "\n",
              "      async function convertToInteractive(key) {\n",
              "        const element = document.querySelector('#df-4634b828-dcd3-4dcc-91ce-9add79f4179b');\n",
              "        const dataTable =\n",
              "          await google.colab.kernel.invokeFunction('convertToInteractive',\n",
              "                                                    [key], {});\n",
              "        if (!dataTable) return;\n",
              "\n",
              "        const docLinkHtml = 'Like what you see? Visit the ' +\n",
              "          '<a target=\"_blank\" href=https://colab.research.google.com/notebooks/data_table.ipynb>data table notebook</a>'\n",
              "          + ' to learn more about interactive tables.';\n",
              "        element.innerHTML = '';\n",
              "        dataTable['output_type'] = 'display_data';\n",
              "        await google.colab.output.renderOutput(dataTable, element);\n",
              "        const docLink = document.createElement('div');\n",
              "        docLink.innerHTML = docLinkHtml;\n",
              "        element.appendChild(docLink);\n",
              "      }\n",
              "    </script>\n",
              "  </div>\n",
              "\n",
              "\n",
              "<div id=\"df-dfb426ac-2cd8-4b98-b631-6d5a1a60a8e3\">\n",
              "  <button class=\"colab-df-quickchart\" onclick=\"quickchart('df-dfb426ac-2cd8-4b98-b631-6d5a1a60a8e3')\"\n",
              "            title=\"Suggest charts\"\n",
              "            style=\"display:none;\">\n",
              "\n",
              "<svg xmlns=\"http://www.w3.org/2000/svg\" height=\"24px\"viewBox=\"0 0 24 24\"\n",
              "     width=\"24px\">\n",
              "    <g>\n",
              "        <path d=\"M19 3H5c-1.1 0-2 .9-2 2v14c0 1.1.9 2 2 2h14c1.1 0 2-.9 2-2V5c0-1.1-.9-2-2-2zM9 17H7v-7h2v7zm4 0h-2V7h2v10zm4 0h-2v-4h2v4z\"/>\n",
              "    </g>\n",
              "</svg>\n",
              "  </button>\n",
              "\n",
              "<style>\n",
              "  .colab-df-quickchart {\n",
              "      --bg-color: #E8F0FE;\n",
              "      --fill-color: #1967D2;\n",
              "      --hover-bg-color: #E2EBFA;\n",
              "      --hover-fill-color: #174EA6;\n",
              "      --disabled-fill-color: #AAA;\n",
              "      --disabled-bg-color: #DDD;\n",
              "  }\n",
              "\n",
              "  [theme=dark] .colab-df-quickchart {\n",
              "      --bg-color: #3B4455;\n",
              "      --fill-color: #D2E3FC;\n",
              "      --hover-bg-color: #434B5C;\n",
              "      --hover-fill-color: #FFFFFF;\n",
              "      --disabled-bg-color: #3B4455;\n",
              "      --disabled-fill-color: #666;\n",
              "  }\n",
              "\n",
              "  .colab-df-quickchart {\n",
              "    background-color: var(--bg-color);\n",
              "    border: none;\n",
              "    border-radius: 50%;\n",
              "    cursor: pointer;\n",
              "    display: none;\n",
              "    fill: var(--fill-color);\n",
              "    height: 32px;\n",
              "    padding: 0;\n",
              "    width: 32px;\n",
              "  }\n",
              "\n",
              "  .colab-df-quickchart:hover {\n",
              "    background-color: var(--hover-bg-color);\n",
              "    box-shadow: 0 1px 2px rgba(60, 64, 67, 0.3), 0 1px 3px 1px rgba(60, 64, 67, 0.15);\n",
              "    fill: var(--button-hover-fill-color);\n",
              "  }\n",
              "\n",
              "  .colab-df-quickchart-complete:disabled,\n",
              "  .colab-df-quickchart-complete:disabled:hover {\n",
              "    background-color: var(--disabled-bg-color);\n",
              "    fill: var(--disabled-fill-color);\n",
              "    box-shadow: none;\n",
              "  }\n",
              "\n",
              "  .colab-df-spinner {\n",
              "    border: 2px solid var(--fill-color);\n",
              "    border-color: transparent;\n",
              "    border-bottom-color: var(--fill-color);\n",
              "    animation:\n",
              "      spin 1s steps(1) infinite;\n",
              "  }\n",
              "\n",
              "  @keyframes spin {\n",
              "    0% {\n",
              "      border-color: transparent;\n",
              "      border-bottom-color: var(--fill-color);\n",
              "      border-left-color: var(--fill-color);\n",
              "    }\n",
              "    20% {\n",
              "      border-color: transparent;\n",
              "      border-left-color: var(--fill-color);\n",
              "      border-top-color: var(--fill-color);\n",
              "    }\n",
              "    30% {\n",
              "      border-color: transparent;\n",
              "      border-left-color: var(--fill-color);\n",
              "      border-top-color: var(--fill-color);\n",
              "      border-right-color: var(--fill-color);\n",
              "    }\n",
              "    40% {\n",
              "      border-color: transparent;\n",
              "      border-right-color: var(--fill-color);\n",
              "      border-top-color: var(--fill-color);\n",
              "    }\n",
              "    60% {\n",
              "      border-color: transparent;\n",
              "      border-right-color: var(--fill-color);\n",
              "    }\n",
              "    80% {\n",
              "      border-color: transparent;\n",
              "      border-right-color: var(--fill-color);\n",
              "      border-bottom-color: var(--fill-color);\n",
              "    }\n",
              "    90% {\n",
              "      border-color: transparent;\n",
              "      border-bottom-color: var(--fill-color);\n",
              "    }\n",
              "  }\n",
              "</style>\n",
              "\n",
              "  <script>\n",
              "    async function quickchart(key) {\n",
              "      const quickchartButtonEl =\n",
              "        document.querySelector('#' + key + ' button');\n",
              "      quickchartButtonEl.disabled = true;  // To prevent multiple clicks.\n",
              "      quickchartButtonEl.classList.add('colab-df-spinner');\n",
              "      try {\n",
              "        const charts = await google.colab.kernel.invokeFunction(\n",
              "            'suggestCharts', [key], {});\n",
              "      } catch (error) {\n",
              "        console.error('Error during call to suggestCharts:', error);\n",
              "      }\n",
              "      quickchartButtonEl.classList.remove('colab-df-spinner');\n",
              "      quickchartButtonEl.classList.add('colab-df-quickchart-complete');\n",
              "    }\n",
              "    (() => {\n",
              "      let quickchartButtonEl =\n",
              "        document.querySelector('#df-dfb426ac-2cd8-4b98-b631-6d5a1a60a8e3 button');\n",
              "      quickchartButtonEl.style.display =\n",
              "        google.colab.kernel.accessAllowed ? 'block' : 'none';\n",
              "    })();\n",
              "  </script>\n",
              "</div>\n",
              "\n",
              "    </div>\n",
              "  </div>\n"
            ],
            "application/vnd.google.colaboratory.intrinsic+json": {
              "type": "dataframe"
            }
          },
          "metadata": {},
          "execution_count": 56
        }
      ]
    },
    {
      "cell_type": "code",
      "source": [],
      "metadata": {
        "id": "si8V29FW2r25"
      },
      "execution_count": 55,
      "outputs": []
    },
    {
      "cell_type": "code",
      "source": [],
      "metadata": {
        "id": "gK6HZUkk2r5Q"
      },
      "execution_count": 55,
      "outputs": []
    },
    {
      "cell_type": "code",
      "source": [],
      "metadata": {
        "id": "njhTEHya__sp"
      },
      "execution_count": null,
      "outputs": []
    },
    {
      "cell_type": "code",
      "source": [],
      "metadata": {
        "id": "B-uL7sIp__wS"
      },
      "execution_count": null,
      "outputs": []
    },
    {
      "cell_type": "code",
      "source": [],
      "metadata": {
        "id": "g5Mpmwc3__zr"
      },
      "execution_count": null,
      "outputs": []
    },
    {
      "cell_type": "code",
      "source": [],
      "metadata": {
        "id": "QIETlcuj__3S"
      },
      "execution_count": null,
      "outputs": []
    },
    {
      "cell_type": "code",
      "source": [],
      "metadata": {
        "id": "uEppy90i__61"
      },
      "execution_count": null,
      "outputs": []
    },
    {
      "cell_type": "code",
      "source": [],
      "metadata": {
        "id": "_mauZHAZ__-5"
      },
      "execution_count": null,
      "outputs": []
    },
    {
      "cell_type": "code",
      "source": [],
      "metadata": {
        "id": "GQr8j9ocAACK"
      },
      "execution_count": null,
      "outputs": []
    },
    {
      "cell_type": "code",
      "source": [],
      "metadata": {
        "id": "7HfpXNf7AAGK"
      },
      "execution_count": null,
      "outputs": []
    },
    {
      "cell_type": "code",
      "source": [],
      "metadata": {
        "id": "lFDtijrfAAJU"
      },
      "execution_count": null,
      "outputs": []
    },
    {
      "cell_type": "code",
      "source": [],
      "metadata": {
        "id": "gvVXxtdkAAM_"
      },
      "execution_count": null,
      "outputs": []
    },
    {
      "cell_type": "code",
      "source": [],
      "metadata": {
        "id": "ty8pv8pNAARY"
      },
      "execution_count": null,
      "outputs": []
    },
    {
      "cell_type": "code",
      "source": [],
      "metadata": {
        "id": "0aJuWKA8AAVN"
      },
      "execution_count": null,
      "outputs": []
    },
    {
      "cell_type": "code",
      "source": [],
      "metadata": {
        "id": "Uyye4RbXAAYz"
      },
      "execution_count": null,
      "outputs": []
    },
    {
      "cell_type": "code",
      "source": [],
      "metadata": {
        "id": "pdPgnPDWAAcS"
      },
      "execution_count": null,
      "outputs": []
    },
    {
      "cell_type": "code",
      "source": [],
      "metadata": {
        "id": "jeUK2TigAAgL"
      },
      "execution_count": null,
      "outputs": []
    },
    {
      "cell_type": "code",
      "source": [],
      "metadata": {
        "id": "Ps-fRuMlAAjt"
      },
      "execution_count": null,
      "outputs": []
    }
  ]
}
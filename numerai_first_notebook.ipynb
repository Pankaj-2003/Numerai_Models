{
  "nbformat": 4,
  "nbformat_minor": 0,
  "metadata": {
    "colab": {
      "provenance": [],
      "authorship_tag": "ABX9TyPW+WjkR+1nz4GBYdngg5UO",
      "include_colab_link": true
    },
    "kernelspec": {
      "name": "python3",
      "display_name": "Python 3"
    },
    "language_info": {
      "name": "python"
    }
  },
  "cells": [
    {
      "cell_type": "markdown",
      "metadata": {
        "id": "view-in-github",
        "colab_type": "text"
      },
      "source": [
        "<a href=\"https://colab.research.google.com/github/Pankaj-2003/Numerai_Models/blob/main/numerai_first_notebook.ipynb\" target=\"_parent\"><img src=\"https://colab.research.google.com/assets/colab-badge.svg\" alt=\"Open In Colab\"/></a>"
      ]
    },
    {
      "cell_type": "code",
      "execution_count": null,
      "metadata": {
        "colab": {
          "base_uri": "https://localhost:8080/"
        },
        "id": "DmZUKyxn2f_W",
        "outputId": "8ec771c2-2af6-4a9b-ae53-e3067f45566a"
      },
      "outputs": [
        {
          "output_type": "stream",
          "name": "stdout",
          "text": [
            "\u001b[2K     \u001b[90m━━━━━━━━━━━━━━━━━━━━━━━━━━━━━━━━━━━━━━━━\u001b[0m \u001b[32m34.4/34.4 MB\u001b[0m \u001b[31m34.9 MB/s\u001b[0m eta \u001b[36m0:00:00\u001b[0m\n",
            "\u001b[?25h"
          ]
        }
      ],
      "source": [
        "!pip install -q numerapi pandas pyarrow matplotlib lightgbm scikit-learn cloudpickle scipy==1.10.1\n"
      ]
    },
    {
      "cell_type": "code",
      "source": [
        "%matplotlib inline"
      ],
      "metadata": {
        "id": "_tzQ8nwe2nRp"
      },
      "execution_count": null,
      "outputs": []
    },
    {
      "cell_type": "code",
      "source": [
        "# Initialize NumerAPI - the official Python API client for Numerai\n",
        "from numerapi import NumerAPI\n",
        "napi = NumerAPI()\n",
        "all_datasets = napi.list_datasets()"
      ],
      "metadata": {
        "id": "pYo0J4h02rN1"
      },
      "execution_count": null,
      "outputs": []
    },
    {
      "cell_type": "code",
      "source": [
        "dataset_versions = list(set([i.split(\"/\")[0] for i in all_datasets]))\n",
        "dataset_versions"
      ],
      "metadata": {
        "colab": {
          "base_uri": "https://localhost:8080/"
        },
        "id": "c2qOyQKR2rRV",
        "outputId": "fb6adf03-dbc8-44f9-c997-5bf96dfbb968"
      },
      "execution_count": null,
      "outputs": [
        {
          "output_type": "execute_result",
          "data": {
            "text/plain": [
              "['v4', 'v4.3', 'v4.1', 'v4.2']"
            ]
          },
          "metadata": {},
          "execution_count": 3
        }
      ]
    },
    {
      "cell_type": "code",
      "source": [
        "dataset_version = \"v4.3\"\n",
        "current_version_files = [i for i in all_datasets if i.startswith(dataset_version)]\n",
        "current_version_files"
      ],
      "metadata": {
        "colab": {
          "base_uri": "https://localhost:8080/"
        },
        "id": "W53LsCv32rUk",
        "outputId": "84efe11c-c33f-4ab5-a905-83b39a20cb62"
      },
      "execution_count": null,
      "outputs": [
        {
          "output_type": "execute_result",
          "data": {
            "text/plain": [
              "['v4.3/features.json',\n",
              " 'v4.3/live_benchmark_models.parquet',\n",
              " 'v4.3/live_example_preds.csv',\n",
              " 'v4.3/live_example_preds.parquet',\n",
              " 'v4.3/live_int8.parquet',\n",
              " 'v4.3/meta_model.parquet',\n",
              " 'v4.3/train_benchmark_models.parquet',\n",
              " 'v4.3/train_int8.parquet',\n",
              " 'v4.3/validation_benchmark_models.parquet',\n",
              " 'v4.3/validation_example_preds.csv',\n",
              " 'v4.3/validation_example_preds.parquet',\n",
              " 'v4.3/validation_int8.parquet']"
            ]
          },
          "metadata": {},
          "execution_count": 4
        }
      ]
    },
    {
      "cell_type": "code",
      "source": [
        "import json\n",
        "napi.download_dataset(f\"{dataset_version}/features.json\");\n",
        "feature_metadata = json.load(open(f\"{dataset_version}/features.json\"))\n"
      ],
      "metadata": {
        "id": "X10GFgnS2rYA"
      },
      "execution_count": null,
      "outputs": []
    },
    {
      "cell_type": "code",
      "source": [
        "for i in feature_metadata.keys():\n",
        "  print(f'{i}: {len(feature_metadata[i])}')\n"
      ],
      "metadata": {
        "colab": {
          "base_uri": "https://localhost:8080/"
        },
        "id": "-V5PmHfY2rbi",
        "outputId": "670aa251-4cc0-4332-9d2a-c6dc6a620e1e"
      },
      "execution_count": null,
      "outputs": [
        {
          "output_type": "stream",
          "name": "stdout",
          "text": [
            "feature_stats: 2376\n",
            "feature_sets: 17\n",
            "targets: 41\n"
          ]
        }
      ]
    },
    {
      "cell_type": "code",
      "source": [
        "features = [\"small\",\"medium\",\"all\"]\n",
        "for i in features:\n",
        "  print(f\"{i}:{len(feature_metadata['feature_sets'][i])}\")"
      ],
      "metadata": {
        "colab": {
          "base_uri": "https://localhost:8080/"
        },
        "id": "ypkWCsIW2rfB",
        "outputId": "51525c98-45c9-4d4d-f50c-6ccaa5586620"
      },
      "execution_count": null,
      "outputs": [
        {
          "output_type": "stream",
          "name": "stdout",
          "text": [
            "small:42\n",
            "medium:705\n",
            "all:2376\n"
          ]
        }
      ]
    },
    {
      "cell_type": "code",
      "source": [
        "# loading dataset\n",
        "import pandas as pd\n",
        "feature_sets = feature_metadata[\"feature_sets\"][\"medium\"]\n",
        "napi.download_dataset(f\"{dataset_version}/train_int8.parquet\");\n",
        "train = pd.read_parquet(f\"{dataset_version}/train_int8.parquet\",columns = [\"era\",\"target\"] + feature_sets)\n"
      ],
      "metadata": {
        "id": "IhRHPuTr2rii"
      },
      "execution_count": null,
      "outputs": []
    },
    {
      "cell_type": "code",
      "source": [
        "# exploring eras(took just first 10 to get a idea)\n",
        "train.groupby([\"era\"]).size()"
      ],
      "metadata": {
        "colab": {
          "base_uri": "https://localhost:8080/"
        },
        "id": "QDpqumRh2rl0",
        "outputId": "7892ef23-099c-48b6-c022-e2fb95744413"
      },
      "execution_count": null,
      "outputs": [
        {
          "output_type": "execute_result",
          "data": {
            "text/plain": [
              "era\n",
              "0001    2072\n",
              "0002    2260\n",
              "0003    2334\n",
              "0004    2399\n",
              "0005    2406\n",
              "        ... \n",
              "0570    4804\n",
              "0571    4811\n",
              "0572    4793\n",
              "0573    4793\n",
              "0574    4801\n",
              "Length: 574, dtype: int64"
            ]
          },
          "metadata": {},
          "execution_count": 11
        }
      ]
    },
    {
      "cell_type": "code",
      "source": [
        "# no of rows per era\n",
        "train.groupby('era').size().plot(title = \"No. of rows per era\",figsize = (5,3),xlabel = \"era\")"
      ],
      "metadata": {
        "colab": {
          "base_uri": "https://localhost:8080/",
          "height": 350
        },
        "id": "6yU_Jr1s2rpP",
        "outputId": "135a3844-d3e9-43b0-d518-124d9659adbd"
      },
      "execution_count": null,
      "outputs": [
        {
          "output_type": "execute_result",
          "data": {
            "text/plain": [
              "<Axes: title={'center': 'No. of rows per era'}, xlabel='era'>"
            ]
          },
          "metadata": {},
          "execution_count": 20
        },
        {
          "output_type": "display_data",
          "data": {
            "text/plain": [
              "<Figure size 500x300 with 1 Axes>"
            ],
            "image/png": "[encoded data removed]"
          },
          "metadata": {}
        }
      ]
    },
    {
      "cell_type": "code",
      "source": [],
      "metadata": {
        "id": "U5_RuraJ2rsd"
      },
      "execution_count": null,
      "outputs": []
    },
    {
      "cell_type": "code",
      "source": [],
      "metadata": {
        "id": "GFroQHTw2rvz"
      },
      "execution_count": null,
      "outputs": []
    },
    {
      "cell_type": "code",
      "source": [],
      "metadata": {
        "id": "6ABO-1ua2rzX"
      },
      "execution_count": null,
      "outputs": []
    },
    {
      "cell_type": "code",
      "source": [],
      "metadata": {
        "id": "si8V29FW2r25"
      },
      "execution_count": null,
      "outputs": []
    },
    {
      "cell_type": "code",
      "source": [],
      "metadata": {
        "id": "gK6HZUkk2r5Q"
      },
      "execution_count": null,
      "outputs": []
    }
  ]
}